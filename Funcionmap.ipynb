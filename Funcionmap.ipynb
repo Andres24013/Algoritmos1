{
  "nbformat": 4,
  "nbformat_minor": 0,
  "metadata": {
    "colab": {
      "provenance": []
    },
    "kernelspec": {
      "name": "python3",
      "display_name": "Python 3"
    },
    "language_info": {
      "name": "python"
    }
  },
  "cells": [
    {
      "cell_type": "markdown",
      "source": [
        "#Función map y lambda\n",
        "Vamos a ver la función [map](https://docs.python.org/3/library/functions.html#map)\n",
        "\n",
        "---\n",
        "##Lambda\n",
        "La función lambda en Python se usa para crear funciones anónimas, que son funciones que no tienen nombre. Son útiles para crear funciones cortas y simples que no necesitas nombrar\n",
        "\n"
      ],
      "metadata": {
        "id": "W7tSRnJUxPx5"
      }
    },
    {
      "source": [
        "suma = lambda x, y: x + y"
      ],
      "cell_type": "code",
      "metadata": {
        "id": "1Mt-jvOYzYod"
      },
      "execution_count": 7,
      "outputs": []
    },
    {
      "source": [
        "resultado = suma(2, 3)\n",
        "print(resultado)  # Salida: 5"
      ],
      "cell_type": "code",
      "metadata": {
        "colab": {
          "base_uri": "https://localhost:8080/"
        },
        "id": "KDR3l1VPzmrH",
        "outputId": "6854e839-5245-42fa-9d4a-5ee5c0e85b24"
      },
      "execution_count": 3,
      "outputs": [
        {
          "output_type": "stream",
          "name": "stdout",
          "text": [
            "5\n"
          ]
        }
      ]
    },
    {
      "cell_type": "code",
      "source": [
        "resultado2 = suma(5, 7)\n",
        "print(resultado2)"
      ],
      "metadata": {
        "colab": {
          "base_uri": "https://localhost:8080/"
        },
        "id": "Lnf00JO23nqZ",
        "outputId": "a5f1332e-8d43-4b93-dc06-9dd8a9170caf"
      },
      "execution_count": 8,
      "outputs": [
        {
          "output_type": "stream",
          "name": "stdout",
          "text": [
            "12\n"
          ]
        }
      ]
    },
    {
      "source": [
        "numeros = [1, 2, 3, 4, 5] #Lista numerica\n",
        "cuadrados = list(map(lambda x: x * x, numeros))\n",
        "print(cuadrados)"
      ],
      "cell_type": "code",
      "metadata": {
        "colab": {
          "base_uri": "https://localhost:8080/"
        },
        "id": "pn0vElHvznPh",
        "outputId": "17933e8b-3364-45f9-ce6d-97be9e487842"
      },
      "execution_count": 4,
      "outputs": [
        {
          "output_type": "stream",
          "name": "stdout",
          "text": [
            "[1, 4, 9, 16, 25]\n"
          ]
        }
      ]
    }
  ]
}