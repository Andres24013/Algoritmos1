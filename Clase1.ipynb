{
  "nbformat": 4,
  "nbformat_minor": 0,
  "metadata": {
    "colab": {
      "provenance": []
    },
    "kernelspec": {
      "name": "python3",
      "display_name": "Python 3"
    },
    "language_info": {
      "name": "python"
    }
  },
  "cells": [
    {
      "cell_type": "markdown",
      "source": [
        "#Introducción a Phyton\n",
        "¡Hola! Como estudiante que está aprendiendo Python básico, es genial que estés interesado en entender qué es Python. Aquí te va una explicación sencilla:\n",
        "\n",
        "¿Qué es Python?\n",
        "\n",
        "Python es un lenguaje de programación de alto nivel, interpretado y de propósito general. Es conocido por su sintaxis clara y legible, lo que lo hace relativamente fácil de aprender y usar, comparado con otros lenguajes.\n",
        "\n",
        "Características principales:\n",
        "\n",
        "Interpretado: El código Python se ejecuta línea por línea, sin necesidad de compilarlo previamente. Esto facilita la depuración y la experimentación.\n",
        "De alto nivel: Python se encarga de muchos detalles de bajo nivel, como la gestión de memoria, lo que permite a los programadores centrarse en la lógica del programa.\n",
        "Propósito general: Python se puede utilizar para una amplia variedad de tareas, como el desarrollo web, análisis de datos, inteligencia artificial, scripting, automatización, entre otras.\n",
        "Extensa librería: Python tiene una gran colección de bibliotecas (o módulos) que proporcionan funcionalidades adicionales para diversas tareas, como la manipulación de datos, la creación de gráficos, el aprendizaje automático, y más.\n",
        "Gran comunidad: Python cuenta con una comunidad activa y amigable que proporciona soporte y recursos para los usuarios.\n",
        "\n",
        "---\n",
        "##Algunos objetos en Phyton\n",
        "###Numeros y strings\n",
        "\n",
        "\n",
        "1.   int, float\n",
        "2.   str\n",
        "\n",
        "**Operaciones básicas entre numeros**\n",
        "\n",
        "\n",
        "\n",
        "1.   $+,-$\n",
        "2.   $*,**$ 1 Mult. 2 Potencia\n",
        "3.   $/,//$ 2 Division al piso\n",
        "4.   $\\%$ Op. modular (residuo)\n",
        "\n",
        "\n",
        "\n",
        "\n",
        "Nota. Es posible escribir en Latex\n",
        "\n",
        "La siguiente integral es de gran importancia\n",
        "\n",
        "$$\\int_{-\\infty}^{\\infty}e^{-\\frac{x^2}{2}}dx=\\sqrt{2\\pi}$$\n",
        "\n",
        "---\n",
        "Phyton tiene funciones integradas\n",
        "1. print\n",
        "2. type"
      ],
      "metadata": {
        "id": "WmjI1cRgogRG"
      }
    },
    {
      "cell_type": "code",
      "source": [
        "#Vamos a crear dos variables int\n",
        "x=5\n",
        "y=2\n"
      ],
      "metadata": {
        "id": "EeyZMdN_vTX_"
      },
      "execution_count": 3,
      "outputs": []
    },
    {
      "cell_type": "code",
      "source": [
        "print(\"Hola Mundo\")"
      ],
      "metadata": {
        "colab": {
          "base_uri": "https://localhost:8080/"
        },
        "id": "Id1-NRG2zVoQ",
        "outputId": "31d3394b-b669-4b40-cc8d-2cf19bad12f3"
      },
      "execution_count": null,
      "outputs": [
        {
          "output_type": "stream",
          "name": "stdout",
          "text": [
            "Hola Mundo\n"
          ]
        }
      ]
    },
    {
      "cell_type": "code",
      "source": [
        "print(f\"El residuo de {x} entre {y} es {x%y}\")"
      ],
      "metadata": {
        "id": "Uwr2_lqk0lSe",
        "colab": {
          "base_uri": "https://localhost:8080/"
        },
        "outputId": "cf263f99-a487-4ef4-88a8-5f452b1a1ced"
      },
      "execution_count": 40,
      "outputs": [
        {
          "output_type": "stream",
          "name": "stdout",
          "text": [
            "El residuo de 5 entre 2 es 1\n"
          ]
        }
      ]
    },
    {
      "cell_type": "code",
      "source": [
        "#Crear una lista con varios elementos\n",
        "Lista=[7,7.7,\"Andres\",[1,2,3,4]]"
      ],
      "metadata": {
        "id": "vXmjQtqFq6Lf"
      },
      "execution_count": 29,
      "outputs": []
    },
    {
      "cell_type": "code",
      "source": [
        "#Obtener un valor especifico de la lista\n",
        "Lista[3]"
      ],
      "metadata": {
        "colab": {
          "base_uri": "https://localhost:8080/"
        },
        "id": "pl6EGTpesdFt",
        "outputId": "36df2941-6218-42f1-d831-3b77c6aa823d"
      },
      "execution_count": 53,
      "outputs": [
        {
          "output_type": "execute_result",
          "data": {
            "text/plain": [
              "[1, 2, 3, 4]"
            ]
          },
          "metadata": {},
          "execution_count": 53
        }
      ]
    },
    {
      "cell_type": "code",
      "source": [
        "#Agregar elementos a una lista\n",
        "Lista.append(\"arbol\")\n",
        "Lista"
      ],
      "metadata": {
        "colab": {
          "base_uri": "https://localhost:8080/"
        },
        "id": "c5KMNnFH0yOx",
        "outputId": "ff518ab2-7d63-4288-eb51-9b4734e8de60"
      },
      "execution_count": 55,
      "outputs": [
        {
          "output_type": "execute_result",
          "data": {
            "text/plain": [
              "[7, 7.7, 'Andres', [1, 2, 3, 4], 'gato', 'hola', 'arbol']"
            ]
          },
          "metadata": {},
          "execution_count": 55
        }
      ]
    },
    {
      "cell_type": "code",
      "source": [
        "#Nueva lista con rangos\n",
        "L=[x for x in range(21)]\n",
        "L"
      ],
      "metadata": {
        "colab": {
          "base_uri": "https://localhost:8080/"
        },
        "id": "bDIOU-tTxDhy",
        "outputId": "b02dbfed-8562-4dce-fa0e-fd35042000df"
      },
      "execution_count": 41,
      "outputs": [
        {
          "output_type": "execute_result",
          "data": {
            "text/plain": [
              "[0, 1, 2, 3, 4, 5, 6, 7, 8, 9, 10, 11, 12, 13, 14, 15, 16, 17, 18, 19, 20]"
            ]
          },
          "metadata": {},
          "execution_count": 41
        }
      ]
    },
    {
      "cell_type": "code",
      "source": [
        "#Multiplos de 3\n",
        "# % es el residuo de una división\n",
        "M=[x for x in range(21) if x%3 == 0]\n",
        "M"
      ],
      "metadata": {
        "colab": {
          "base_uri": "https://localhost:8080/"
        },
        "id": "2ZbDOSwVxuYw",
        "outputId": "b2fd011d-1a52-4d3b-dceb-4298a4566de9"
      },
      "execution_count": 44,
      "outputs": [
        {
          "output_type": "execute_result",
          "data": {
            "text/plain": [
              "[0, 3, 6, 9, 12, 15, 18]"
            ]
          },
          "metadata": {},
          "execution_count": 44
        }
      ]
    },
    {
      "cell_type": "code",
      "source": [
        "#SLICE: Partir la lista\n",
        "L[0:6]"
      ],
      "metadata": {
        "colab": {
          "base_uri": "https://localhost:8080/"
        },
        "id": "FFZohZHxydBj",
        "outputId": "2b3f5c4c-1458-4cd1-af99-aeb02ab87b42"
      },
      "execution_count": 45,
      "outputs": [
        {
          "output_type": "execute_result",
          "data": {
            "text/plain": [
              "[0, 1, 2, 3, 4, 5]"
            ]
          },
          "metadata": {},
          "execution_count": 45
        }
      ]
    },
    {
      "cell_type": "code",
      "source": [
        "#Poner :: te da los extremos de la lista\n",
        "L[0::20]"
      ],
      "metadata": {
        "colab": {
          "base_uri": "https://localhost:8080/"
        },
        "id": "0vunBo00y3Lz",
        "outputId": "87e9bfc3-1e5f-4592-8904-cde8924c028e"
      },
      "execution_count": 52,
      "outputs": [
        {
          "output_type": "execute_result",
          "data": {
            "text/plain": [
              "[0, 20]"
            ]
          },
          "metadata": {},
          "execution_count": 52
        }
      ]
    }
  ]
}